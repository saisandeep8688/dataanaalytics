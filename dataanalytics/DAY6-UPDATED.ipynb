{
  "nbformat": 4,
  "nbformat_minor": 0,
  "metadata": {
    "colab": {
      "provenance": []
    },
    "kernelspec": {
      "name": "python3",
      "display_name": "Python 3"
    },
    "language_info": {
      "name": "python"
    }
  },
  "cells": [
    {
      "cell_type": "code",
      "source": [
        "import pandas as pd\n",
        "from scipy.stats import chi2_contingency\n",
        "\n",
        "# Load the dataset\n",
        "file_path = '/content/ab_testing.csv'\n",
        "data = pd.read_csv(file_path)\n",
        "\n",
        "# Step 1: Create a contingency table for the 'Group' and 'Conversion' columns\n",
        "conversion_table = pd.crosstab(data['Group'], data['Conversion'])\n",
        "\n",
        "# Step 2: Perform Chi-Square Test\n",
        "chi2_stat, p_value, dof, expected = chi2_contingency(conversion_table)\n",
        "\n",
        "# Step 3: Calculate conversion rates for each group\n",
        "conversion_rates = data.groupby('Group')['Conversion'].value_counts(normalize=True).unstack() * 100\n",
        "\n",
        "# Print results\n",
        "print(\"Contingency Table (Counts):\")\n",
        "print(conversion_table)\n",
        "print(\"\\nConversion Rates (%):\")\n",
        "print(conversion_rates)\n",
        "print(\"\\nChi-Square Test Results:\")\n",
        "print(f\"Chi-Square Statistic: {chi2_stat:.2f}\")\n",
        "print(f\"P-value: {p_value:.2e}\")\n",
        "print(f\"Degrees of Freedom: {dof}\")\n",
        "print(\"\\nInterpretation:\")\n",
        "if p_value < 0.05:\n",
        "    print(\"There is a significant difference in conversion rates between Group A and Group B.\")\n",
        "else:\n",
        "    print(\"There is no significant difference in conversion rates between Group A and Group B.\")\n"
      ],
      "metadata": {
        "colab": {
          "base_uri": "https://localhost:8080/"
        },
        "id": "ia9AAgcVWoVG",
        "outputId": "a1be861d-a33c-445c-bea0-248a166ec14a"
      },
      "execution_count": 2,
      "outputs": [
        {
          "output_type": "stream",
          "name": "stdout",
          "text": [
            "Contingency Table (Counts):\n",
            "Conversion    No  Yes\n",
            "Group                \n",
            "A           2383  136\n",
            "B           2132  349\n",
            "\n",
            "Conversion Rates (%):\n",
            "Conversion         No        Yes\n",
            "Group                           \n",
            "A           94.601032   5.398968\n",
            "B           85.933091  14.066909\n",
            "\n",
            "Chi-Square Test Results:\n",
            "Chi-Square Statistic: 106.23\n",
            "P-value: 6.57e-25\n",
            "Degrees of Freedom: 1\n",
            "\n",
            "Interpretation:\n",
            "There is a significant difference in conversion rates between Group A and Group B.\n"
          ]
        }
      ]
    }
  ]
}