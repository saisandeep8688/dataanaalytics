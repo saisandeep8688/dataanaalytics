{
  "nbformat": 4,
  "nbformat_minor": 0,
  "metadata": {
    "colab": {
      "provenance": []
    },
    "kernelspec": {
      "name": "python3",
      "display_name": "Python 3"
    },
    "language_info": {
      "name": "python"
    }
  },
  "cells": [
    {
      "cell_type": "code",
      "source": [
        "import pandas as pd\n",
        "import numpy as np\n",
        "\n",
        "# Load the dataset\n",
        "data = pd.read_csv('/content/AmesHousing.csv')"
      ],
      "metadata": {
        "id": "LCsdpxWMCiWy"
      },
      "execution_count": null,
      "outputs": []
    },
    {
      "cell_type": "code",
      "source": [
        "# Count missing values for each column\n",
        "missing_values = data.isnull().sum()\n",
        "print(\"Missing values in each column:\\n\", missing_values)"
      ],
      "metadata": {
        "colab": {
          "base_uri": "https://localhost:8080/"
        },
        "id": "UUM06cDoF9fL",
        "outputId": "e2defa56-093c-46db-c49f-53c94c29c15a"
      },
      "execution_count": null,
      "outputs": [
        {
          "output_type": "stream",
          "name": "stdout",
          "text": [
            "Missing values in each column:\n",
            " Order               0\n",
            "PID                 0\n",
            "MS SubClass         0\n",
            "MS Zoning           0\n",
            "Lot Frontage      490\n",
            "                 ... \n",
            "Mo Sold             0\n",
            "Yr Sold             0\n",
            "Sale Type           0\n",
            "Sale Condition      0\n",
            "SalePrice           0\n",
            "Length: 82, dtype: int64\n"
          ]
        }
      ]
    },
    {
      "cell_type": "code",
      "source": [
        "# Get numeric columns\n",
        "numeric_cols = data.select_dtypes(include=np.number).columns\n",
        "\n",
        "# Copy the dataset and fill only numeric columns with their mean\n",
        "data_mean = data.copy()\n",
        "data_mean[numeric_cols] = data_mean[numeric_cols].fillna(data_mean[numeric_cols].mean())\n",
        "\n",
        "print(\"\\nMissing values in numeric columns replaced with Mean.\")\n",
        "#display a preview of updated data\n",
        "print(data.head())"
      ],
      "metadata": {
        "colab": {
          "base_uri": "https://localhost:8080/"
        },
        "id": "DKQtPSw_GGYq",
        "outputId": "05ea3e1d-8d1a-49f7-87da-c5fa6452fb44"
      },
      "execution_count": null,
      "outputs": [
        {
          "output_type": "stream",
          "name": "stdout",
          "text": [
            "\n",
            "Missing values in numeric columns replaced with Mean.\n",
            "   Order        PID  MS SubClass MS Zoning  Lot Frontage  Lot Area Street  \\\n",
            "0      1  526301100           20        RL         141.0     31770   Pave   \n",
            "1      2  526350040           20        RH          80.0     11622   Pave   \n",
            "2      3  526351010           20        RL          81.0     14267   Pave   \n",
            "3      4  526353030           20        RL          93.0     11160   Pave   \n",
            "4      5  527105010           60        RL          74.0     13830   Pave   \n",
            "\n",
            "  Alley Lot Shape Land Contour  ... Pool Area Pool QC  Fence Misc Feature  \\\n",
            "0   NaN       IR1          Lvl  ...         0     NaN    NaN          NaN   \n",
            "1   NaN       Reg          Lvl  ...         0     NaN  MnPrv          NaN   \n",
            "2   NaN       IR1          Lvl  ...         0     NaN    NaN         Gar2   \n",
            "3   NaN       Reg          Lvl  ...         0     NaN    NaN          NaN   \n",
            "4   NaN       IR1          Lvl  ...         0     NaN  MnPrv          NaN   \n",
            "\n",
            "  Misc Val Mo Sold Yr Sold Sale Type  Sale Condition  SalePrice  \n",
            "0        0       5    2010       WD           Normal     215000  \n",
            "1        0       6    2010       WD           Normal     105000  \n",
            "2    12500       6    2010       WD           Normal     172000  \n",
            "3        0       4    2010       WD           Normal     244000  \n",
            "4        0       3    2010       WD           Normal     189900  \n",
            "\n",
            "[5 rows x 82 columns]\n"
          ]
        }
      ]
    },
    {
      "cell_type": "code",
      "source": [
        "import pandas as pd\n",
        "import numpy as np\n",
        "\n",
        "data = pd.read_csv('/content/WVS_per_Country.csv')\n",
        "\n",
        "# Get numeric columns\n",
        "numeric_cols = data_median.select_dtypes(include=np.number).columns\n",
        "\n",
        "# Fill missing values in numeric columns with their median\n",
        "data_median[numeric_cols] = data_median[numeric_cols].fillna(data_median[numeric_cols].median())\n",
        "print(\"\\nMissing values in numeric columns replaced with Median.\")\n",
        "\n",
        "#display a preview of updated data\n",
        "print(data.head())\n"
      ],
      "metadata": {
        "colab": {
          "base_uri": "https://localhost:8080/"
        },
        "id": "V57nmpp4LGdW",
        "outputId": "16dea8c2-2b16-410a-d22b-379f0c395f39"
      },
      "execution_count": null,
      "outputs": [
        {
          "output_type": "stream",
          "name": "stdout",
          "text": [
            "\n",
            "Missing values in numeric columns replaced with Median.\n",
            "   Country  Wave  S004           S006      S007      S007_01 S009 S009A  \\\n",
            "0  Albania     4   NaN     500.500000  112494.5   80480500.5   AL    AL   \n",
            "1  Albania     3   1.0  200500.000000   78594.0   80360500.0   AL    AL   \n",
            "2  Algeria     4   NaN     641.500780  113635.5  120480641.5   DZ    DZ   \n",
            "3  Algeria     6   NaN     600.500000  331699.5  120600600.5   DZ    DZ   \n",
            "4  Andorra     5   NaN     722.209372  171526.0  200600502.0   AD    AD   \n",
            "\n",
            "        S010      S011  ...   Y012_Sd   Y013_Sd   Y014_Sd   Y020_Sd   Y021_Sd  \\\n",
            "0  80.278000  1411.442  ...  0.312742  0.412060  0.215111  0.138649  0.311839   \n",
            "1  96.596597       NaN  ...  0.293336  0.379238  0.217821  0.135696  0.265734   \n",
            "2  62.027301       NaN  ...  0.251419  0.328627  0.276228  0.132115  0.276265   \n",
            "3        NaN       NaN  ...  0.198245  0.370339  0.294353  0.140975  0.319788   \n",
            "4        NaN       NaN  ...  0.309393  0.361393  0.179372  0.156213  0.333458   \n",
            "\n",
            "    Y022_Sd   Y023_Sd   Y024_Sd  TRADRAT5_Sd  survself_Sd  \n",
            "0  0.264979  0.175288  0.209508     0.507019     0.442325  \n",
            "1  0.324785  0.167522  0.185812     0.532426     0.334042  \n",
            "2  0.267933  0.164923  0.272772     0.530380     0.378831  \n",
            "3  0.281949  0.225554  0.264459     0.409819     0.382288  \n",
            "4  0.149050  0.239513  0.271188     0.644723     0.648707  \n",
            "\n",
            "[5 rows x 1891 columns]\n"
          ]
        }
      ]
    },
    {
      "cell_type": "code",
      "source": [],
      "metadata": {
        "id": "If3r5qk6Lr5J"
      },
      "execution_count": null,
      "outputs": []
    }
  ]
}