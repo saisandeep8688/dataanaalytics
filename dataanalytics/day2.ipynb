{
  "nbformat": 4,
  "nbformat_minor": 0,
  "metadata": {
    "colab": {
      "provenance": []
    },
    "kernelspec": {
      "name": "python3",
      "display_name": "Python 3"
    },
    "language_info": {
      "name": "python"
    }
  },
  "cells": [
    {
      "cell_type": "markdown",
      "source": [
        "import file\n"
      ],
      "metadata": {
        "id": "nuf4haz82Dtw"
      }
    },
    {
      "cell_type": "code",
      "execution_count": 1,
      "metadata": {
        "id": "KywXFScFZbK3",
        "colab": {
          "base_uri": "https://localhost:8080/"
        },
        "outputId": "431cd16d-00ab-4027-f4d7-0c747fd69f07"
      },
      "outputs": [
        {
          "output_type": "stream",
          "name": "stdout",
          "text": [
            "    Make       Model Vehicle Class  Engine Size(L)  Cylinders Transmission  \\\n",
            "0  ACURA         ILX       COMPACT             2.0          4          AS5   \n",
            "1  ACURA         ILX       COMPACT             2.4          4           M6   \n",
            "2  ACURA  ILX HYBRID       COMPACT             1.5          4          AV7   \n",
            "3  ACURA     MDX 4WD   SUV - SMALL             3.5          6          AS6   \n",
            "4  ACURA     RDX AWD   SUV - SMALL             3.5          6          AS6   \n",
            "\n",
            "  Fuel Type  Fuel Consumption City (L/100 km)  \\\n",
            "0         Z                               9.9   \n",
            "1         Z                              11.2   \n",
            "2         Z                               6.0   \n",
            "3         Z                              12.7   \n",
            "4         Z                              12.1   \n",
            "\n",
            "   Fuel Consumption Hwy (L/100 km)  Fuel Consumption Comb (L/100 km)  \\\n",
            "0                              6.7                               8.5   \n",
            "1                              7.7                               9.6   \n",
            "2                              5.8                               5.9   \n",
            "3                              9.1                              11.1   \n",
            "4                              8.7                              10.6   \n",
            "\n",
            "   Fuel Consumption Comb (mpg)  CO2 Emissions(g/km)  \n",
            "0                           33                  196  \n",
            "1                           29                  221  \n",
            "2                           48                  136  \n",
            "3                           25                  255  \n",
            "4                           27                  244  \n",
            "    Make       Model Vehicle Class  Engine Size(L)  Cylinders Transmission  \\\n",
            "0  ACURA         ILX       COMPACT             2.0          4          AS5   \n",
            "1  ACURA         ILX       COMPACT             2.4          4           M6   \n",
            "2  ACURA  ILX HYBRID       COMPACT             1.5          4          AV7   \n",
            "3  ACURA     MDX 4WD   SUV - SMALL             3.5          6          AS6   \n",
            "4  ACURA     RDX AWD   SUV - SMALL             3.5          6          AS6   \n",
            "\n",
            "  Fuel Type  Fuel Consumption City (L/100 km)  \\\n",
            "0         Z                               9.9   \n",
            "1         Z                              11.2   \n",
            "2         Z                               6.0   \n",
            "3         Z                              12.7   \n",
            "4         Z                              12.1   \n",
            "\n",
            "   Fuel Consumption Hwy (L/100 km)  Fuel Consumption Comb (L/100 km)  \\\n",
            "0                              6.7                               8.5   \n",
            "1                              7.7                               9.6   \n",
            "2                              5.8                               5.9   \n",
            "3                              9.1                              11.1   \n",
            "4                              8.7                              10.6   \n",
            "\n",
            "   Fuel Consumption Comb (mpg)  CO2 Emissions(g/km)  \n",
            "0                           33                  196  \n",
            "1                           29                  221  \n",
            "2                           48                  136  \n",
            "3                           25                  255  \n",
            "4                           27                  244  \n"
          ]
        }
      ],
      "source": [
        "import pandas as pd\n",
        "\n",
        "# Provide the file path (update with your file location)\n",
        "file_path = '/content/co2.csv'\n",
        "import pandas as pd\n",
        "\n",
        "# Provide the file path (update with your file location)\n",
        "file_path = '/content/co2.csv'\n",
        "\n",
        "# Load the CSV file into a DataFrame\n",
        "data = pd.read_csv(file_path)\n",
        "\n",
        "# Display the first few rows of the DataFrame\n",
        "print(data.head())\n",
        "\n",
        "\n",
        "print(data.head())"
      ]
    },
    {
      "cell_type": "markdown",
      "source": [
        "mean"
      ],
      "metadata": {
        "id": "rTrgj_XR2HhA"
      }
    },
    {
      "cell_type": "code",
      "source": [
        "import pandas as pd\n",
        "\n",
        "# Load the CSV file\n",
        "file_path = \"/content/co2.csv\"  # Replace with the path to your file\n",
        "data = pd.read_csv(file_path)\n",
        "\n",
        "# Calculate the MEAN for numerical columns\n",
        "means = data.mean(numeric_only=True)\n",
        "\n",
        "# Display the MEAN values\n",
        "print(\"MEAN values for numerical columns:\")\n",
        "print(means)"
      ],
      "metadata": {
        "colab": {
          "base_uri": "https://localhost:8080/"
        },
        "id": "GDSjv3GT1adG",
        "outputId": "5da861ea-4b95-4551-9304-f664c5d5bf28"
      },
      "execution_count": 2,
      "outputs": [
        {
          "output_type": "stream",
          "name": "stdout",
          "text": [
            "MEAN values for numerical columns:\n",
            "Engine Size(L)                        3.160068\n",
            "Cylinders                             5.615030\n",
            "Fuel Consumption City (L/100 km)     12.556534\n",
            "Fuel Consumption Hwy (L/100 km)       9.041706\n",
            "Fuel Consumption Comb (L/100 km)     10.975071\n",
            "Fuel Consumption Comb (mpg)          27.481652\n",
            "CO2 Emissions(g/km)                 250.584699\n",
            "dtype: float64\n"
          ]
        }
      ]
    },
    {
      "cell_type": "markdown",
      "source": [
        "median"
      ],
      "metadata": {
        "id": "A-VFKRNv2Jow"
      }
    },
    {
      "cell_type": "code",
      "source": [
        "import pandas as pd\n",
        "# Load the CSV file\n",
        "file_path = \"/content/co2.csv\"  # Replace with the path to your file\n",
        "data = pd.read_csv(file_path)\n",
        "\n",
        "# Calculate the MEDIAN for numerical columns\n",
        "medians = data.median(numeric_only=True)\n",
        "\n",
        "import pandas as pd\n",
        "# Load the CSV file\n",
        "file_path = \"/content/co2.csv\"  # Replace with the path to your file\n",
        "data = pd.read_csv(file_path)\n",
        "\n",
        "# Calculate the MEDIAN for numerical columns\n",
        "medians = data.median(numeric_only=True)\n",
        "\n",
        "# Display the MEDIAN values\n",
        "print(\"MEDIAN values for numerical columns:\")\n",
        "print(medians)"
      ],
      "metadata": {
        "colab": {
          "base_uri": "https://localhost:8080/"
        },
        "id": "PgiCKLYG1kFL",
        "outputId": "d8828a89-9b4a-47ce-989d-d6dbb39319de"
      },
      "execution_count": 4,
      "outputs": [
        {
          "output_type": "stream",
          "name": "stdout",
          "text": [
            "MEDIAN values for numerical columns:\n",
            "Engine Size(L)                        3.0\n",
            "Cylinders                             6.0\n",
            "Fuel Consumption City (L/100 km)     12.1\n",
            "Fuel Consumption Hwy (L/100 km)       8.7\n",
            "Fuel Consumption Comb (L/100 km)     10.6\n",
            "Fuel Consumption Comb (mpg)          27.0\n",
            "CO2 Emissions(g/km)                 246.0\n",
            "dtype: float64\n"
          ]
        }
      ]
    },
    {
      "cell_type": "markdown",
      "source": [
        "mode"
      ],
      "metadata": {
        "id": "POS6FdIq2LTM"
      }
    },
    {
      "cell_type": "code",
      "source": [
        "import pandas as pd\n",
        "\n",
        "# Load the CSV file\n",
        "file_path = \"/content/co2.csv\"  # Replace with the path to your file\n",
        "data = pd.read_csv(file_path)\n",
        "\n",
        "# Calculate the MODE for numerical columns\n",
        "modes = data.mode(numeric_only=True).iloc[0]\n",
        "\n",
        "# Display the MODE values\n",
        "print(\"\\nMODE values for numerical columns:\")\n",
        "print(modes)"
      ],
      "metadata": {
        "colab": {
          "base_uri": "https://localhost:8080/"
        },
        "id": "KoGE4_CE1rAt",
        "outputId": "3407fe35-fc5c-482c-cf07-aa4f6e024069"
      },
      "execution_count": 5,
      "outputs": [
        {
          "output_type": "stream",
          "name": "stdout",
          "text": [
            "\n",
            "MODE values for numerical columns:\n",
            "Engine Size(L)                        2.0\n",
            "Cylinders                             4.0\n",
            "Fuel Consumption City (L/100 km)     10.8\n",
            "Fuel Consumption Hwy (L/100 km)       7.8\n",
            "Fuel Consumption Comb (L/100 km)      9.4\n",
            "Fuel Consumption Comb (mpg)          25.0\n",
            "CO2 Emissions(g/km)                 242.0\n",
            "Name: 0, dtype: float64\n"
          ]
        }
      ]
    },
    {
      "cell_type": "markdown",
      "source": [
        "range"
      ],
      "metadata": {
        "id": "zQVEhXMf2NBp"
      }
    },
    {
      "cell_type": "code",
      "source": [
        "import pandas as pd\n",
        "\n",
        "# Load the CSV file\n",
        "file_path = \"/content/co2.csv\"  # Replace with the path to your file\n",
        "data = pd.read_csv(file_path)\n",
        "\n",
        "# Calculate the range for numerical columns (max - min)\n",
        "ranges = data.max(numeric_only=True) - data.min(numeric_only=True)\n",
        "\n",
        "\n",
        "# Display the RANGE values\n",
        "print(\"\\nRange values for numerical columns:\")\n",
        "print(ranges)"
      ],
      "metadata": {
        "colab": {
          "base_uri": "https://localhost:8080/"
        },
        "id": "8KEfEX0C1y0_",
        "outputId": "10d2d0f5-68c0-4f10-bf0e-e42215dc0983"
      },
      "execution_count": 6,
      "outputs": [
        {
          "output_type": "stream",
          "name": "stdout",
          "text": [
            "\n",
            "Range values for numerical columns:\n",
            "Engine Size(L)                        7.5\n",
            "Cylinders                            13.0\n",
            "Fuel Consumption City (L/100 km)     26.4\n",
            "Fuel Consumption Hwy (L/100 km)      16.6\n",
            "Fuel Consumption Comb (L/100 km)     22.0\n",
            "Fuel Consumption Comb (mpg)          58.0\n",
            "CO2 Emissions(g/km)                 426.0\n",
            "dtype: float64\n"
          ]
        }
      ]
    },
    {
      "cell_type": "markdown",
      "source": [
        "variance"
      ],
      "metadata": {
        "id": "ROK_g5XR2Pdx"
      }
    },
    {
      "cell_type": "code",
      "source": [
        "import pandas as pd\n",
        "\n",
        "# Load the CSV file\n",
        "file_path = \"/content/co2.csv\"  # Replace with the path to your file\n",
        "data = pd.read_csv(file_path)\n",
        "\n",
        "# Calculate the variance for numerical columns\n",
        "variances = data.var(numeric_only=True)\n",
        "\n",
        "print(\"\\nVariance values for numerical columns:\")\n",
        "print(variances)"
      ],
      "metadata": {
        "colab": {
          "base_uri": "https://localhost:8080/"
        },
        "id": "crIJpmK612eU",
        "outputId": "72f8c7d2-c27a-441b-f92a-0d381967f632"
      },
      "execution_count": 7,
      "outputs": [
        {
          "output_type": "stream",
          "name": "stdout",
          "text": [
            "\n",
            "Variance values for numerical columns:\n",
            "Engine Size(L)                         1.833778\n",
            "Cylinders                              3.342705\n",
            "Fuel Consumption City (L/100 km)      12.251919\n",
            "Fuel Consumption Hwy (L/100 km)        4.948206\n",
            "Fuel Consumption Comb (L/100 km)       8.366593\n",
            "Fuel Consumption Comb (mpg)           52.300076\n",
            "CO2 Emissions(g/km)                 3423.733650\n",
            "dtype: float64\n"
          ]
        }
      ]
    },
    {
      "cell_type": "markdown",
      "source": [
        "skewness"
      ],
      "metadata": {
        "id": "WnYsxr8K2Sij"
      }
    },
    {
      "cell_type": "code",
      "source": [
        "import pandas as pd\n",
        "\n",
        "# Load the CSV file\n",
        "file_path = \"/content/co2.csv\"  # Replace with the path to your file\n",
        "data = pd.read_csv(file_path)\n",
        "\n",
        "# Calculate the skewness for numerical columns\n",
        "skewness = data.skew(numeric_only=True)\n",
        "\n",
        "print(\"\\nSkewness values for numerical columns:\")\n",
        "print(skewness)"
      ],
      "metadata": {
        "colab": {
          "base_uri": "https://localhost:8080/"
        },
        "id": "hmOew8Ek18Ud",
        "outputId": "8deaac39-b5c0-4210-f620-9a1decc544dd"
      },
      "execution_count": 8,
      "outputs": [
        {
          "output_type": "stream",
          "name": "stdout",
          "text": [
            "\n",
            "Skewness values for numerical columns:\n",
            "Engine Size(L)                      0.809181\n",
            "Cylinders                           1.110415\n",
            "Fuel Consumption City (L/100 km)    0.809005\n",
            "Fuel Consumption Hwy (L/100 km)     1.079217\n",
            "Fuel Consumption Comb (L/100 km)    0.893316\n",
            "Fuel Consumption Comb (mpg)         0.977034\n",
            "CO2 Emissions(g/km)                 0.526094\n",
            "dtype: float64\n"
          ]
        }
      ]
    }
  ]
}