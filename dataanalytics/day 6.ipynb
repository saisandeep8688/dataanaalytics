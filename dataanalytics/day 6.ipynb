{
  "nbformat": 4,
  "nbformat_minor": 0,
  "metadata": {
    "colab": {
      "provenance": []
    },
    "kernelspec": {
      "name": "python3",
      "display_name": "Python 3"
    },
    "language_info": {
      "name": "python"
    }
  },
  "cells": [
    {
      "cell_type": "code",
      "source": [
        "import pandas as pd\n",
        "from scipy.stats import ttest_ind, chi2_contingency\n",
        "\n",
        "# Step 1: Load the data\n",
        "file_path = '/content/ab_testing.csv'  # Replace with your actual file path\n",
        "data = pd.read_csv(file_path)\n",
        "\n",
        "# Step 2: Inspect the data\n",
        "print(data.head())\n",
        "print(data.info())\n",
        "\n",
        "# Example assumptions:\n",
        "# 'group' column indicates 'Control' or 'Treatment'\n",
        "# 'metric' column contains the outcome (continuous or binary)\n",
        "\n",
        "# Step 3: Separate data by group\n",
        "control = data[data['User ID'] == 'Control']['Group']\n",
        "treatment = data[data['User ID'] == 'Treatment']['Group']\n",
        "\n",
        "# Step 4: Perform statistical test\n",
        "# For continuous outcomes: Independent t-test\n",
        "t_stat, p_value = ttest_ind(control, treatment, equal_var=False)  # Welch's t-test\n",
        "print(f\"T-statistic: {t_stat}, P-value: {p_value}\")\n",
        "\n",
        "# For binary outcomes: Chi-squared test\n",
        "if data['User ID'].nunique() == 2:  # Ensure the metric is binary\n",
        "    contingency_table = pd.crosstab(data['group'], data['metric'])\n",
        "    chi2, chi2_p, _, _ = chi2_contingency(contingency_table)\n",
        "    print(f\"Chi-squared Statistic: {chi2}, P-value: {chi2_p}\")\n",
        "\n",
        "# Step 5: Interpret results\n",
        "if p_value < 0.05:\n",
        "    print(\"Reject the null hypothesis: Significant difference between groups.\")\n",
        "else:\n",
        "    print(\"Fail to reject the null hypothesis: No significant difference between groups.\")"
      ],
      "metadata": {
        "colab": {
          "base_uri": "https://localhost:8080/"
        },
        "id": "Az28XOLMZ33A",
        "outputId": "a3a58c4c-0ffc-495a-8f07-40b90b8f8150"
      },
      "execution_count": 6,
      "outputs": [
        {
          "output_type": "stream",
          "name": "stdout",
          "text": [
            "   User ID Group  Page Views  Time Spent Conversion   Device          Location\n",
            "0    14292     B           3         424         No   Mobile  Northern Ireland\n",
            "1    11682     A           9         342         No   Mobile          Scotland\n",
            "2    19825     A           2         396         No  Desktop  Northern Ireland\n",
            "3    16080     B           4         318         No  Desktop             Wales\n",
            "4    18851     A           1         338        Yes  Desktop          Scotland\n",
            "<class 'pandas.core.frame.DataFrame'>\n",
            "RangeIndex: 5000 entries, 0 to 4999\n",
            "Data columns (total 7 columns):\n",
            " #   Column      Non-Null Count  Dtype \n",
            "---  ------      --------------  ----- \n",
            " 0   User ID     5000 non-null   int64 \n",
            " 1   Group       5000 non-null   object\n",
            " 2   Page Views  5000 non-null   int64 \n",
            " 3   Time Spent  5000 non-null   int64 \n",
            " 4   Conversion  5000 non-null   object\n",
            " 5   Device      5000 non-null   object\n",
            " 6   Location    5000 non-null   object\n",
            "dtypes: int64(3), object(4)\n",
            "memory usage: 273.6+ KB\n",
            "None\n",
            "T-statistic: nan, P-value: nan\n",
            "Fail to reject the null hypothesis: No significant difference between groups.\n"
          ]
        }
      ]
    }
  ]
}